{
  "nbformat": 4,
  "nbformat_minor": 0,
  "metadata": {
    "colab": {
      "provenance": [],
      "authorship_tag": "ABX9TyMiLEuCr4uxymMfzrIqSIF8",
      "include_colab_link": true
    },
    "kernelspec": {
      "name": "python3",
      "display_name": "Python 3"
    },
    "language_info": {
      "name": "python"
    }
  },
  "cells": [
    {
      "cell_type": "markdown",
      "metadata": {
        "id": "view-in-github",
        "colab_type": "text"
      },
      "source": [
        "<a href=\"https://colab.research.google.com/github/anandsr724/ml_projects/blob/main/NN_Code_Notes.ipynb\" target=\"_parent\"><img src=\"https://colab.research.google.com/assets/colab-badge.svg\" alt=\"Open In Colab\"/></a>"
      ]
    },
    {
      "cell_type": "code",
      "execution_count": null,
      "metadata": {
        "id": "ogOs769DpiAS"
      },
      "outputs": [],
      "source": [
        "#  Neural Networks"
      ]
    },
    {
      "cell_type": "code",
      "source": [
        "import tensorflow\n",
        "from tensorflow.keras import Sequential\n",
        "from tensorflow.keras.layers import Dense , Flatten\n",
        "import numpy as np\n",
        "import pandas as pd\n"
      ],
      "metadata": {
        "id": "YkIT7O3ppnk2"
      },
      "execution_count": null,
      "outputs": []
    },
    {
      "cell_type": "markdown",
      "source": [],
      "metadata": {
        "id": "5MzZSeUQqX39"
      }
    },
    {
      "cell_type": "code",
      "source": [],
      "metadata": {
        "id": "W88v2UtVpneN"
      },
      "execution_count": null,
      "outputs": []
    },
    {
      "cell_type": "code",
      "source": [
        "model = Sequential()\n",
        "\n",
        "model.add(Flatten(input_shape=(28,28)))\n",
        "model.add(Dense(128,activation='relu'))\n",
        "model.add(Dense(32,activation='relu'))\n",
        "model.add(Dense(10,activation='softmax'))"
      ],
      "metadata": {
        "id": "y9IWzPXTpncH"
      },
      "execution_count": null,
      "outputs": []
    },
    {
      "cell_type": "code",
      "source": [
        "model.summary()"
      ],
      "metadata": {
        "colab": {
          "base_uri": "https://localhost:8080/"
        },
        "id": "Q5CNWLq7pnZG",
        "outputId": "47202f19-1222-416e-e53a-19f419145a34"
      },
      "execution_count": null,
      "outputs": [
        {
          "output_type": "stream",
          "name": "stdout",
          "text": [
            "Model: \"sequential\"\n",
            "_________________________________________________________________\n",
            " Layer (type)                Output Shape              Param #   \n",
            "=================================================================\n",
            " flatten (Flatten)           (None, 784)               0         \n",
            "                                                                 \n",
            " dense (Dense)               (None, 128)               100480    \n",
            "                                                                 \n",
            " dense_1 (Dense)             (None, 32)                4128      \n",
            "                                                                 \n",
            " dense_2 (Dense)             (None, 10)                330       \n",
            "                                                                 \n",
            "=================================================================\n",
            "Total params: 104938 (409.91 KB)\n",
            "Trainable params: 104938 (409.91 KB)\n",
            "Non-trainable params: 0 (0.00 Byte)\n",
            "_________________________________________________________________\n"
          ]
        }
      ]
    },
    {
      "cell_type": "code",
      "source": [
        "model.compile(loss='sparse_categorical_crossentropy',optimizer='Adam',metrics=['accuracy'])"
      ],
      "metadata": {
        "id": "ob9-H2IVpnWO"
      },
      "execution_count": null,
      "outputs": []
    },
    {
      "cell_type": "code",
      "source": [
        "history = model.fit(X_train,y_train,epochs=25,validation_split=0.2)"
      ],
      "metadata": {
        "id": "Ve5i3O0TpnT4"
      },
      "execution_count": null,
      "outputs": []
    },
    {
      "cell_type": "code",
      "source": [
        "y_prob = model.predict(X_test)"
      ],
      "metadata": {
        "id": "WlAj_MTnqvvn"
      },
      "execution_count": null,
      "outputs": []
    },
    {
      "cell_type": "markdown",
      "source": [],
      "metadata": {
        "id": "Au_IcUzQpsHd"
      }
    },
    {
      "cell_type": "code",
      "source": [],
      "metadata": {
        "id": "b337hf4upnRc"
      },
      "execution_count": null,
      "outputs": []
    },
    {
      "cell_type": "code",
      "source": [
        "plt.imshow(X_test[1])"
      ],
      "metadata": {
        "colab": {
          "base_uri": "https://localhost:8080/",
          "height": 283
        },
        "id": "F0eTtwmSZGQn",
        "outputId": "84241465-c39e-4edb-9ac8-3fb6c27ad2f7"
      },
      "execution_count": null,
      "outputs": [
        {
          "output_type": "execute_result",
          "data": {
            "text/plain": [
              "<matplotlib.image.AxesImage at 0x7f5736844c50>"
            ]
          },
          "metadata": {},
          "execution_count": 67
        },
        {
          "output_type": "display_data",
          "data": {
            "image/png": "[encoded data removed]",
            "text/plain": [
              "<Figure size 432x288 with 1 Axes>"
            ]
          },
          "metadata": {
            "needs_background": "light"
          }
        }
      ]
    },
    {
      "cell_type": "code",
      "source": [],
      "metadata": {
        "id": "-WVj-lDlpnPY"
      },
      "execution_count": null,
      "outputs": []
    },
    {
      "cell_type": "code",
      "source": [],
      "metadata": {
        "id": "g7XBNfN4pnMf"
      },
      "execution_count": null,
      "outputs": []
    },
    {
      "cell_type": "code",
      "source": [],
      "metadata": {
        "id": "jdO4J-XgpnJ9"
      },
      "execution_count": null,
      "outputs": []
    },
    {
      "cell_type": "code",
      "source": [],
      "metadata": {
        "id": "fekO9YMqpnHx"
      },
      "execution_count": null,
      "outputs": []
    },
    {
      "cell_type": "code",
      "source": [],
      "metadata": {
        "id": "W5xY4JBcpnFj"
      },
      "execution_count": null,
      "outputs": []
    },
    {
      "cell_type": "code",
      "source": [],
      "metadata": {
        "id": "7G9pF8Wxpm8_"
      },
      "execution_count": null,
      "outputs": []
    },
    {
      "cell_type": "markdown",
      "source": [
        "**MNIST Digit Classification**"
      ],
      "metadata": {
        "id": "IIX5p2BPsarz"
      }
    },
    {
      "cell_type": "code",
      "source": [
        "import numpy as np\n",
        "import matplotlib.pyplot as plt\n",
        "%matplotlib inline\n",
        "# show plot without plt.show\n",
        "from tensorflow.keras import Sequential\n",
        "from tensorflow.keras.layers import Dense , Dropout\n",
        "\n",
        "from sklearn.metrics import confusion_matrix\n",
        "import seaborn as sns\n"
      ],
      "metadata": {
        "id": "52XZAL1vsoC3"
      },
      "execution_count": null,
      "outputs": []
    },
    {
      "cell_type": "markdown",
      "source": [
        "# Data"
      ],
      "metadata": {
        "id": "hh0b3Gbqw481"
      }
    },
    {
      "cell_type": "code",
      "source": [
        "from keras.datasets import mnist\n",
        "(x_train,y_train) , (x_test,y_test) = mnist.load_data()"
      ],
      "metadata": {
        "id": "GXDb1vs0wxrt"
      },
      "execution_count": null,
      "outputs": []
    },
    {
      "cell_type": "code",
      "source": [
        "print(x_train.shape , y_train.shape)\n",
        "print(x_test.shape , y_test.shape)\n"
      ],
      "metadata": {
        "colab": {
          "base_uri": "https://localhost:8080/"
        },
        "id": "gFIpZ36ewxoj",
        "outputId": "b49b3eda-cd82-4a70-f7ab-f6c9a7dc5564"
      },
      "execution_count": null,
      "outputs": [
        {
          "output_type": "stream",
          "name": "stdout",
          "text": [
            "(60000, 28, 28) (60000,)\n",
            "(10000, 28, 28) (10000,)\n"
          ]
        }
      ]
    },
    {
      "cell_type": "markdown",
      "source": [
        "# Visualising Examples"
      ],
      "metadata": {
        "id": "ouzgKR1UxZkL"
      }
    },
    {
      "cell_type": "code",
      "source": [
        "num_classes =10\n",
        "fig , ax =  plt.subplots(1,10,figsize=(20,4))\n",
        "\n",
        "for i in range(1,10):\n",
        "  sample = x_train[y_train==i][-1]\n",
        "  ax[i].imshow(sample,cmap=\"gray\")\n",
        "  ax[i].set_title(i)"
      ],
      "metadata": {
        "colab": {
          "base_uri": "https://localhost:8080/",
          "height": 371
        },
        "id": "hdOKHAxlwxmI",
        "outputId": "71022741-5933-4fa8-ae02-ad331d9bef38"
      },
      "execution_count": null,
      "outputs": [
        {
          "output_type": "display_data",
          "data": {
            "text/plain": [
              "<Figure size 2000x400 with 10 Axes>"
            ],
            "image/png": "[encoded data removed]"
          },
          "metadata": {}
        }
      ]
    },
    {
      "cell_type": "code",
      "source": [
        "y_test"
      ],
      "metadata": {
        "colab": {
          "base_uri": "https://localhost:8080/"
        },
        "id": "lGINOzImzulO",
        "outputId": "03c7dd5f-c331-4a10-c0c6-96a20649364c"
      },
      "execution_count": null,
      "outputs": [
        {
          "output_type": "execute_result",
          "data": {
            "text/plain": [
              "array([7, 2, 1, ..., 4, 5, 6], dtype=uint8)"
            ]
          },
          "metadata": {},
          "execution_count": 59
        }
      ]
    },
    {
      "cell_type": "code",
      "source": [
        "# encodeing\n",
        "import keras\n",
        "y_train_enc = keras.utils.to_categorical(y_train , num_classes)\n",
        "y_test_enc  = keras.utils.to_categorical(y_test  , num_classes)\n",
        "\n",
        "# since we are doing classification"
      ],
      "metadata": {
        "id": "5s5D3-GbwxkB"
      },
      "execution_count": null,
      "outputs": []
    },
    {
      "cell_type": "code",
      "source": [
        "y_test_enc.shape"
      ],
      "metadata": {
        "colab": {
          "base_uri": "https://localhost:8080/"
        },
        "id": "mAfSZ7UM0G1o",
        "outputId": "dfd2ea15-c418-4531-ba1a-0ea241d2d836"
      },
      "execution_count": null,
      "outputs": [
        {
          "output_type": "execute_result",
          "data": {
            "text/plain": [
              "(10000, 10)"
            ]
          },
          "metadata": {},
          "execution_count": 60
        }
      ]
    },
    {
      "cell_type": "markdown",
      "source": [
        "#Prepare the Data"
      ],
      "metadata": {
        "id": "CFXQHSYm0RRJ"
      }
    },
    {
      "cell_type": "code",
      "source": [
        "# normalization\n",
        "\n",
        "x_train = x_train /255\n",
        "x_test = x_test /255"
      ],
      "metadata": {
        "id": "XW6D_YVw0GuR"
      },
      "execution_count": null,
      "outputs": []
    },
    {
      "cell_type": "code",
      "source": [
        "x_train.shape"
      ],
      "metadata": {
        "colab": {
          "base_uri": "https://localhost:8080/"
        },
        "id": "pzFGXVZq0iMh",
        "outputId": "60e435e7-aea7-494b-85f3-9a6c9cead7ef"
      },
      "execution_count": null,
      "outputs": [
        {
          "output_type": "execute_result",
          "data": {
            "text/plain": [
              "(60000, 28, 28)"
            ]
          },
          "metadata": {},
          "execution_count": 62
        }
      ]
    },
    {
      "cell_type": "code",
      "source": [
        "# if you are not using flatten layer then do this\n",
        "\n",
        "x_train_flatten =  x_train.reshape(x_train.shape[0], -1)   # -1 will make the 28x28 in one dimension\n",
        "x_test_flatten =  x_test.reshape(x_test.shape[0], -1)   # -1 will make the 28x28 in one dimension\n"
      ],
      "metadata": {
        "id": "gVso4YM_0wyI"
      },
      "execution_count": null,
      "outputs": []
    },
    {
      "cell_type": "code",
      "source": [
        "x_train_flatten.shape"
      ],
      "metadata": {
        "colab": {
          "base_uri": "https://localhost:8080/"
        },
        "id": "NDUYYpAG0wga",
        "outputId": "cfff6f26-03bf-4e75-8b8f-e1923e165f59"
      },
      "execution_count": null,
      "outputs": [
        {
          "output_type": "execute_result",
          "data": {
            "text/plain": [
              "(60000, 784)"
            ]
          },
          "metadata": {},
          "execution_count": 64
        }
      ]
    },
    {
      "cell_type": "code",
      "source": [
        "model = Sequential()\n",
        "\n",
        "model.add(Flatten(input_shape=(28,28)))\n",
        "model.add(Dense(units=128, activation = 'relu'))\n",
        "\n",
        "# model.add(Dense(units=128,input_shape=(784,), activation = 'relu'))\n",
        "\n",
        "model.add(Dense(units=128,activation='relu'))\n",
        "model.add(Dropout(0.25))\n",
        "model.add(Dense(10,activation='softmax'))\n",
        "\n",
        "model.compile(loss = 'categorical_crossentropy',optimizer='adam', metrics=['accuracy'])\n",
        "\n",
        "model.summary()\n",
        "\n",
        "'''\n",
        "\n",
        "107\n",
        "\n",
        "Both, categorical cross entropy and sparse categorical cross entropy have the same loss function which you have mentioned above. The only difference is the format in which you mention Yi\n",
        " (i,e true labels).\n",
        "\n",
        "If your Yi\n",
        "'s are one-hot encoded, use categorical_crossentropy. Examples (for a 3-class classification): [1,0,0] , [0,1,0], [0,0,1]\n",
        "\n",
        "But if your Yi\n",
        "'s are integers, use sparse_categorical_crossentropy. Examples for above 3-class classification problem: [1] , [2], [3]\n",
        "\n",
        "The usage entirely depends on how you load your dataset. One advantage of using sparse categorical cross entropy is it saves time in memory as well as computation because it simply uses a single integer for a class, rather than a whole vector.\n",
        "'''"
      ],
      "metadata": {
        "colab": {
          "base_uri": "https://localhost:8080/",
          "height": 417
        },
        "id": "VoY5qnEM2eRY",
        "outputId": "a22c1641-fd49-44d1-cfef-045967458db4"
      },
      "execution_count": null,
      "outputs": [
        {
          "output_type": "stream",
          "name": "stdout",
          "text": [
            "Model: \"sequential_7\"\n",
            "_________________________________________________________________\n",
            " Layer (type)                Output Shape              Param #   \n",
            "=================================================================\n",
            " flatten_5 (Flatten)         (None, 784)               0         \n",
            "                                                                 \n",
            " dense_19 (Dense)            (None, 128)               100480    \n",
            "                                                                 \n",
            " dense_20 (Dense)            (None, 128)               16512     \n",
            "                                                                 \n",
            " dropout_6 (Dropout)         (None, 128)               0         \n",
            "                                                                 \n",
            " dense_21 (Dense)            (None, 10)                1290      \n",
            "                                                                 \n",
            "=================================================================\n",
            "Total params: 118282 (462.04 KB)\n",
            "Trainable params: 118282 (462.04 KB)\n",
            "Non-trainable params: 0 (0.00 Byte)\n",
            "_________________________________________________________________\n"
          ]
        },
        {
          "output_type": "execute_result",
          "data": {
            "text/plain": [
              "\"\\n\\n107\\n\\nBoth, categorical cross entropy and sparse categorical cross entropy have the same loss function which you have mentioned above. The only difference is the format in which you mention Yi\\n (i,e true labels).\\n\\nIf your Yi\\n's are one-hot encoded, use categorical_crossentropy. Examples (for a 3-class classification): [1,0,0] , [0,1,0], [0,0,1]\\n\\nBut if your Yi\\n's are integers, use sparse_categorical_crossentropy. Examples for above 3-class classification problem: [1] , [2], [3]\\n\\nThe usage entirely depends on how you load your dataset. One advantage of using sparse categorical cross entropy is it saves time in memory as well as computation because it simply uses a single integer for a class, rather than a whole vector.\\n\""
            ],
            "application/vnd.google.colaboratory.intrinsic+json": {
              "type": "string"
            }
          },
          "metadata": {},
          "execution_count": 65
        }
      ]
    },
    {
      "cell_type": "markdown",
      "source": [
        "# Training"
      ],
      "metadata": {
        "id": "CArcX9seU0bS"
      }
    },
    {
      "cell_type": "code",
      "source": [
        "y_train_enc[1]"
      ],
      "metadata": {
        "colab": {
          "base_uri": "https://localhost:8080/"
        },
        "id": "p-Ua_5WQaDzo",
        "outputId": "83a74590-adeb-431a-e386-3648dc03029c"
      },
      "execution_count": null,
      "outputs": [
        {
          "output_type": "execute_result",
          "data": {
            "text/plain": [
              "array([1., 0., 0., 0., 0., 0., 0., 0., 0., 0.], dtype=float32)"
            ]
          },
          "metadata": {},
          "execution_count": 67
        }
      ]
    },
    {
      "cell_type": "code",
      "source": [
        "print(x_train.shape , y_train.shape)"
      ],
      "metadata": {
        "colab": {
          "base_uri": "https://localhost:8080/"
        },
        "id": "eCDlNzV5ViHL",
        "outputId": "12b7088c-bf40-4c5d-9900-2b4e935c044d"
      },
      "execution_count": null,
      "outputs": [
        {
          "output_type": "stream",
          "name": "stdout",
          "text": [
            "(60000, 28, 28) (60000, 10, 10)\n"
          ]
        }
      ]
    },
    {
      "cell_type": "code",
      "source": [
        "history = model.fit(x=x_train , y =y_train_enc , epochs=5 )"
      ],
      "metadata": {
        "colab": {
          "base_uri": "https://localhost:8080/"
        },
        "id": "H7uUKEChU1jr",
        "outputId": "7c881988-3a2a-4889-cbdf-0871f7dcde86"
      },
      "execution_count": null,
      "outputs": [
        {
          "output_type": "stream",
          "name": "stdout",
          "text": [
            "Epoch 1/5\n",
            "1875/1875 [==============================] - 10s 5ms/step - loss: 0.2668 - accuracy: 0.9210\n",
            "Epoch 2/5\n",
            "1875/1875 [==============================] - 7s 4ms/step - loss: 0.1125 - accuracy: 0.9658\n",
            "Epoch 3/5\n",
            "1875/1875 [==============================] - 9s 5ms/step - loss: 0.0811 - accuracy: 0.9749\n",
            "Epoch 4/5\n",
            "1875/1875 [==============================] - 8s 4ms/step - loss: 0.0636 - accuracy: 0.9798\n",
            "Epoch 5/5\n",
            "1875/1875 [==============================] - 8s 4ms/step - loss: 0.0537 - accuracy: 0.9827\n"
          ]
        }
      ]
    },
    {
      "cell_type": "markdown",
      "source": [
        "# Evaluate"
      ],
      "metadata": {
        "id": "G1pG2jl8a4tl"
      }
    },
    {
      "cell_type": "code",
      "source": [
        "model.evaluate(x_test , y_test_enc)"
      ],
      "metadata": {
        "colab": {
          "base_uri": "https://localhost:8080/"
        },
        "id": "pmS_mUvVa4C8",
        "outputId": "78d6b2f1-64a3-4517-a0a4-a22c3fe22c3b"
      },
      "execution_count": null,
      "outputs": [
        {
          "output_type": "stream",
          "name": "stdout",
          "text": [
            "313/313 [==============================] - 1s 2ms/step - loss: 0.0835 - accuracy: 0.9750\n"
          ]
        },
        {
          "output_type": "execute_result",
          "data": {
            "text/plain": [
              "[0.08346235752105713, 0.9750000238418579]"
            ]
          },
          "metadata": {},
          "execution_count": 69
        }
      ]
    },
    {
      "cell_type": "code",
      "source": [
        "y_prob= model.predict(x_test)\n",
        "y_pred = np.argmax(y_prob,axis=1)\n",
        "\n",
        "\n",
        "\n",
        "print(y_prob)\n",
        "print(\"_________________\")\n",
        "print(y_pred)"
      ],
      "metadata": {
        "colab": {
          "base_uri": "https://localhost:8080/"
        },
        "id": "Zhh6nQ72bODg",
        "outputId": "3eaff74a-cc0d-4dfc-f822-762d06d33b8c"
      },
      "execution_count": null,
      "outputs": [
        {
          "output_type": "stream",
          "name": "stdout",
          "text": [
            "313/313 [==============================] - 2s 5ms/step\n",
            "[[6.51658449e-10 2.95873548e-07 4.41358679e-06 ... 9.99965727e-01\n",
            "  5.30501598e-09 2.53078888e-05]\n",
            " [2.60938677e-13 5.68640717e-05 9.99942958e-01 ... 9.25119495e-11\n",
            "  2.03233527e-10 4.53829115e-15]\n",
            " [2.62599595e-08 9.99554455e-01 3.95850730e-05 ... 1.77928578e-05\n",
            "  3.11213458e-04 2.69936800e-06]\n",
            " ...\n",
            " [2.10296055e-13 1.79714316e-12 1.43979394e-11 ... 3.72219278e-09\n",
            "  2.76497536e-09 6.69835956e-08]\n",
            " [9.40845058e-12 1.85990320e-11 9.25021642e-14 ... 4.87697296e-12\n",
            "  1.03252914e-05 5.62473540e-11]\n",
            " [9.06083042e-10 4.20244216e-13 9.46723533e-11 ... 6.56774630e-16\n",
            "  6.67399780e-09 3.08042047e-12]]\n",
            "_________________\n",
            "[7 2 1 ... 4 5 6]\n"
          ]
        }
      ]
    },
    {
      "cell_type": "code",
      "source": [
        "random_ind = np.random.choice(len(x_test))\n",
        "\n",
        "x_sample = x_test[random_ind]\n",
        "\n",
        "y_true = np.argmax(y_test_enc , axis =1 )     # np.argmax returns the indices of the maximum values\n",
        "\n",
        "\n",
        "plt.imshow(x_sample , cmap = 'gray')\n",
        "plt.title(\"True= \"+ str(y_test[random_ind])   + \" \" + \"Pred= \"+ str(y_pred[random_ind])   )"
      ],
      "metadata": {
        "colab": {
          "base_uri": "https://localhost:8080/",
          "height": 469
        },
        "id": "wDLoZGhAb42h",
        "outputId": "a06abf91-4bc9-47dd-9bc5-c3fb034850f7"
      },
      "execution_count": null,
      "outputs": [
        {
          "output_type": "execute_result",
          "data": {
            "text/plain": [
              "Text(0.5, 1.0, 'True= 9 Pred= 9')"
            ]
          },
          "metadata": {},
          "execution_count": 89
        },
        {
          "output_type": "display_data",
          "data": {
            "text/plain": [
              "<Figure size 640x480 with 1 Axes>"
            ],
            "image/png": "[encoded data removed]"
          },
          "metadata": {}
        }
      ]
    },
    {
      "cell_type": "code",
      "source": [],
      "metadata": {
        "id": "HmNvxAsWcuiJ"
      },
      "execution_count": null,
      "outputs": []
    },
    {
      "cell_type": "code",
      "source": [
        "y_true    # y true and y_test are same , use this if you want to get back from the encoding"
      ],
      "metadata": {
        "colab": {
          "base_uri": "https://localhost:8080/"
        },
        "id": "rrrVeu2LdRmU",
        "outputId": "0637106a-a9cd-4dd4-dcf1-1f130d890d66"
      },
      "execution_count": null,
      "outputs": [
        {
          "output_type": "execute_result",
          "data": {
            "text/plain": [
              "array([7, 2, 1, ..., 4, 5, 6])"
            ]
          },
          "metadata": {},
          "execution_count": 85
        }
      ]
    },
    {
      "cell_type": "markdown",
      "source": [
        "But we don't know if our model is predicting certain classes better than the other"
      ],
      "metadata": {
        "id": "PuCseGFuftv2"
      }
    },
    {
      "cell_type": "markdown",
      "source": [
        "# Confusion Matrix"
      ],
      "metadata": {
        "id": "4kDWR5HRf9I_"
      }
    },
    {
      "cell_type": "code",
      "source": [
        "confusion_mat =  confusion_matrix(y_true , y_pred)\n",
        "\n",
        "fig , ax = plt.subplots(figsize=(10,10))\n",
        "\n",
        "ax  = sns.heatmap(confusion_mat , annot=True , fmt ='d', cmap='Blues')\n",
        "ax.set_xlabel(\"Pred\")\n",
        "ax.set_ylabel(\"True\")\n",
        "ax.set_title(\"Confusion Matrix\")\n",
        "\n"
      ],
      "metadata": {
        "colab": {
          "base_uri": "https://localhost:8080/",
          "height": 889
        },
        "id": "8vL1oQHIdTFn",
        "outputId": "68890842-03d9-4e37-e335-e506fc44e63a"
      },
      "execution_count": null,
      "outputs": [
        {
          "output_type": "execute_result",
          "data": {
            "text/plain": [
              "Text(0.5, 1.0, 'Confusion Matrix')"
            ]
          },
          "metadata": {},
          "execution_count": 94
        },
        {
          "output_type": "display_data",
          "data": {
            "text/plain": [
              "<Figure size 1000x1000 with 2 Axes>"
            ],
            "image/png": "[encoded data removed]"
          },
          "metadata": {}
        }
      ]
    },
    {
      "cell_type": "code",
      "source": [
        "y_true"
      ],
      "metadata": {
        "colab": {
          "base_uri": "https://localhost:8080/"
        },
        "id": "cY30po0KkAKi",
        "outputId": "afa63d2d-7843-47bf-82b0-b4c0fa523d20"
      },
      "execution_count": null,
      "outputs": [
        {
          "output_type": "execute_result",
          "data": {
            "text/plain": [
              "array([7, 2, 1, ..., 4, 5, 6])"
            ]
          },
          "metadata": {},
          "execution_count": 96
        }
      ]
    },
    {
      "cell_type": "code",
      "source": [
        "y_errors_ind = (y_pred - y_true != 0)"
      ],
      "metadata": {
        "id": "URqlMRaoilL0"
      },
      "execution_count": null,
      "outputs": []
    },
    {
      "cell_type": "code",
      "source": [
        "x_errors = x_test[y_errors_ind]\n",
        "y_errors_pred = y_pred[y_errors_ind]\n",
        "y_errors_true = y_true[y_errors_ind]\n"
      ],
      "metadata": {
        "id": "8xi0DLxnkNC7"
      },
      "execution_count": null,
      "outputs": []
    },
    {
      "cell_type": "code",
      "source": [
        "x_errors.shape"
      ],
      "metadata": {
        "colab": {
          "base_uri": "https://localhost:8080/"
        },
        "id": "1CnDDCzalZvX",
        "outputId": "e00359d3-2a98-4c0e-c90a-7df6bf28d6de"
      },
      "execution_count": null,
      "outputs": [
        {
          "output_type": "execute_result",
          "data": {
            "text/plain": [
              "(250, 28, 28)"
            ]
          },
          "metadata": {},
          "execution_count": 108
        }
      ]
    },
    {
      "cell_type": "code",
      "source": [
        "num=10\n",
        "\n",
        "fig , ax =  plt.subplots(1,num,figsize=(30,30))\n",
        "for i in range(num):\n",
        "  ax[i].imshow(x_errors[i],cmap='gray')\n",
        "  ax[i].set_title(\"True= \"+ str(y_errors_true[i])   + \" \" + \"Pred= \"+ str(y_errors_pred[i])   )\n",
        "\n"
      ],
      "metadata": {
        "colab": {
          "base_uri": "https://localhost:8080/",
          "height": 193
        },
        "id": "7OwmVDjqkW4i",
        "outputId": "026c4e1e-9231-4c09-a841-d56d0240951d"
      },
      "execution_count": null,
      "outputs": [
        {
          "output_type": "display_data",
          "data": {
            "text/plain": [
              "<Figure size 3000x3000 with 10 Axes>"
            ],
            "image/png": "[encoded data removed]"
          },
          "metadata": {}
        }
      ]
    }
  ]
}