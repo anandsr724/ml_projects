{
  "nbformat": 4,
  "nbformat_minor": 0,
  "metadata": {
    "colab": {
      "provenance": [],
      "authorship_tag": "ABX9TyOlO9PbVmjqOEo417Gl+M1+",
      "include_colab_link": true
    },
    "kernelspec": {
      "name": "python3",
      "display_name": "Python 3"
    },
    "language_info": {
      "name": "python"
    }
  },
  "cells": [
    {
      "cell_type": "markdown",
      "metadata": {
        "id": "view-in-github",
        "colab_type": "text"
      },
      "source": [
        "<a href=\"https://colab.research.google.com/github/anandsr724/ml_projects/blob/main/digit_classification_using_CNN.ipynb\" target=\"_parent\"><img src=\"https://colab.research.google.com/assets/colab-badge.svg\" alt=\"Open In Colab\"/></a>"
      ]
    },
    {
      "cell_type": "code",
      "execution_count": null,
      "metadata": {
        "id": "Bx255LQCPA7e"
      },
      "outputs": [],
      "source": [
        "import tensorflow as tf\n",
        "\n",
        "from tensorflow.keras import Sequential\n",
        "from tensorflow.keras.layers import Dense , Conv2D , MaxPooling2D , Flatten , Dropout , BatchNormalization\n",
        "import numpy as np\n",
        "import matplotlib.pyplot as plt\n",
        "%matplotlib inline\n",
        "# show plot without plt.show\n",
        "\n",
        "\n",
        "from sklearn.metrics import confusion_matrix\n",
        "import seaborn as sns\n"
      ]
    },
    {
      "cell_type": "code",
      "source": [],
      "metadata": {
        "id": "Fns116RHQU1u"
      },
      "execution_count": null,
      "outputs": []
    },
    {
      "cell_type": "markdown",
      "source": [
        "# Data"
      ],
      "metadata": {
        "id": "hh0b3Gbqw481"
      }
    },
    {
      "cell_type": "code",
      "source": [
        "from keras.datasets import mnist\n",
        "(x_train,y_train) , (x_test,y_test) = mnist.load_data()"
      ],
      "metadata": {
        "id": "GXDb1vs0wxrt",
        "colab": {
          "base_uri": "https://localhost:8080/"
        },
        "outputId": "44beebfe-d622-4b9c-f902-570928f95506"
      },
      "execution_count": null,
      "outputs": [
        {
          "output_type": "stream",
          "name": "stdout",
          "text": [
            "Downloading data from https://storage.googleapis.com/tensorflow/tf-keras-datasets/mnist.npz\n",
            "11490434/11490434 [==============================] - 0s 0us/step\n"
          ]
        }
      ]
    },
    {
      "cell_type": "code",
      "source": [
        "print(x_train.shape , y_train.shape)\n",
        "print(x_test.shape , y_test.shape)\n"
      ],
      "metadata": {
        "colab": {
          "base_uri": "https://localhost:8080/"
        },
        "id": "gFIpZ36ewxoj",
        "outputId": "62e448ce-7e81-4001-c2e1-89a95c683161"
      },
      "execution_count": null,
      "outputs": [
        {
          "output_type": "stream",
          "name": "stdout",
          "text": [
            "(60000, 28, 28) (60000,)\n",
            "(10000, 28, 28) (10000,)\n"
          ]
        }
      ]
    },
    {
      "cell_type": "markdown",
      "source": [
        "# Visualising Examples"
      ],
      "metadata": {
        "id": "ouzgKR1UxZkL"
      }
    },
    {
      "cell_type": "code",
      "source": [
        "num_classes =10\n",
        "fig , ax =  plt.subplots(1,10,figsize=(20,4))\n",
        "\n",
        "for i in range(1,10):\n",
        "  sample = x_train[y_train==i][-1]\n",
        "  ax[i].imshow(sample,cmap=\"gray\")\n",
        "  ax[i].set_title(i)"
      ],
      "metadata": {
        "colab": {
          "base_uri": "https://localhost:8080/",
          "height": 371
        },
        "id": "hdOKHAxlwxmI",
        "outputId": "81e7f384-90e8-4b3c-e955-755c9558e595"
      },
      "execution_count": null,
      "outputs": [
        {
          "output_type": "display_data",
          "data": {
            "text/plain": [
              "<Figure size 2000x400 with 10 Axes>"
            ],
            "image/png": "[encoded data removed]"
          },
          "metadata": {}
        }
      ]
    },
    {
      "cell_type": "code",
      "source": [
        "y_test"
      ],
      "metadata": {
        "colab": {
          "base_uri": "https://localhost:8080/"
        },
        "id": "lGINOzImzulO",
        "outputId": "b2c83583-3dc0-4449-d278-4274a8a121f1"
      },
      "execution_count": null,
      "outputs": [
        {
          "output_type": "execute_result",
          "data": {
            "text/plain": [
              "array([7, 2, 1, ..., 4, 5, 6], dtype=uint8)"
            ]
          },
          "metadata": {},
          "execution_count": 7
        }
      ]
    },
    {
      "cell_type": "code",
      "source": [
        "# encodeing\n",
        "import keras\n",
        "y_train_enc = keras.utils.to_categorical(y_train , num_classes)\n",
        "y_test_enc  = keras.utils.to_categorical(y_test  , num_classes)\n",
        "\n",
        "# since we are doing classification"
      ],
      "metadata": {
        "id": "5s5D3-GbwxkB"
      },
      "execution_count": null,
      "outputs": []
    },
    {
      "cell_type": "code",
      "source": [
        "y_test_enc.shape"
      ],
      "metadata": {
        "colab": {
          "base_uri": "https://localhost:8080/"
        },
        "id": "mAfSZ7UM0G1o",
        "outputId": "4bd7f060-8dc4-4604-f7b9-d60033f98e7e"
      },
      "execution_count": null,
      "outputs": [
        {
          "output_type": "execute_result",
          "data": {
            "text/plain": [
              "(10000, 10)"
            ]
          },
          "metadata": {},
          "execution_count": 9
        }
      ]
    },
    {
      "cell_type": "markdown",
      "source": [
        "#Prepare the Data"
      ],
      "metadata": {
        "id": "CFXQHSYm0RRJ"
      }
    },
    {
      "cell_type": "code",
      "source": [
        "# normalization\n",
        "\n",
        "x_train = x_train /255\n",
        "x_test = x_test /255"
      ],
      "metadata": {
        "id": "XW6D_YVw0GuR"
      },
      "execution_count": null,
      "outputs": []
    },
    {
      "cell_type": "code",
      "source": [
        "x_train.shape"
      ],
      "metadata": {
        "colab": {
          "base_uri": "https://localhost:8080/"
        },
        "id": "pzFGXVZq0iMh",
        "outputId": "48664ca7-a998-489a-bd5c-72eff7664d74"
      },
      "execution_count": null,
      "outputs": [
        {
          "output_type": "execute_result",
          "data": {
            "text/plain": [
              "(60000, 28, 28)"
            ]
          },
          "metadata": {},
          "execution_count": 11
        }
      ]
    },
    {
      "cell_type": "code",
      "source": [
        "# creating a CNN model\n",
        "\n",
        "# 3  CNN Layers\n",
        "# 32 , 64 , 128 filters\n",
        "\n",
        "model = Sequential()\n",
        "\n",
        "model.add( Conv2D(16,kernel_size=(3,3),padding ='valid', activation = 'relu', input_shape=(28,28,1)))\n",
        "model.add(BatchNormalization())\n",
        "model.add(MaxPooling2D(pool_size=(2,2),padding='valid'))\n",
        "\n",
        "model.add( Conv2D(16,kernel_size=(3,3),padding ='valid', activation = 'relu'))\n",
        "model.add(BatchNormalization())\n",
        "model.add(MaxPooling2D(pool_size=(2,2),padding='valid'))\n",
        "\n",
        "\n",
        "model.add(Flatten())\n",
        "model.add(Dense(units=128, activation = 'relu'))\n",
        "\n",
        "# model.add(Dense(units=128,input_shape=(784,), activation = 'relu'))\n",
        "\n",
        "model.add(Dense(units=128,activation='relu'))\n",
        "model.add(Dropout(0.25))\n",
        "model.add(Dense(10,activation='softmax'))\n",
        "\n",
        "model.compile(loss = 'categorical_crossentropy',optimizer='adam', metrics=['accuracy'])\n",
        "\n",
        "model.summary()\n"
      ],
      "metadata": {
        "colab": {
          "base_uri": "https://localhost:8080/"
        },
        "id": "haT7adewQ6WZ",
        "outputId": "3483182b-f3e1-446d-bbc3-3e9775e8cdf1"
      },
      "execution_count": null,
      "outputs": [
        {
          "output_type": "stream",
          "name": "stdout",
          "text": [
            "Model: \"sequential_2\"\n",
            "_________________________________________________________________\n",
            " Layer (type)                Output Shape              Param #   \n",
            "=================================================================\n",
            " conv2d_3 (Conv2D)           (None, 26, 26, 16)        160       \n",
            "                                                                 \n",
            " batch_normalization_2 (Bat  (None, 26, 26, 16)        64        \n",
            " chNormalization)                                                \n",
            "                                                                 \n",
            " max_pooling2d_2 (MaxPoolin  (None, 13, 13, 16)        0         \n",
            " g2D)                                                            \n",
            "                                                                 \n",
            " conv2d_4 (Conv2D)           (None, 11, 11, 16)        2320      \n",
            "                                                                 \n",
            " batch_normalization_3 (Bat  (None, 11, 11, 16)        64        \n",
            " chNormalization)                                                \n",
            "                                                                 \n",
            " max_pooling2d_3 (MaxPoolin  (None, 5, 5, 16)          0         \n",
            " g2D)                                                            \n",
            "                                                                 \n",
            " flatten_1 (Flatten)         (None, 400)               0         \n",
            "                                                                 \n",
            " dense_3 (Dense)             (None, 128)               51328     \n",
            "                                                                 \n",
            " dense_4 (Dense)             (None, 128)               16512     \n",
            "                                                                 \n",
            " dropout_1 (Dropout)         (None, 128)               0         \n",
            "                                                                 \n",
            " dense_5 (Dense)             (None, 10)                1290      \n",
            "                                                                 \n",
            "=================================================================\n",
            "Total params: 71738 (280.23 KB)\n",
            "Trainable params: 71674 (279.98 KB)\n",
            "Non-trainable params: 64 (256.00 Byte)\n",
            "_________________________________________________________________\n"
          ]
        }
      ]
    },
    {
      "cell_type": "code",
      "source": [
        "history = model.fit(x=x_train , y =y_train_enc , epochs=5  , validation_split=0.2)"
      ],
      "metadata": {
        "colab": {
          "base_uri": "https://localhost:8080/"
        },
        "id": "oP9OaxG3RyFD",
        "outputId": "ed2bc218-f593-42be-a6f3-f890b647c3e5"
      },
      "execution_count": null,
      "outputs": [
        {
          "output_type": "stream",
          "name": "stdout",
          "text": [
            "Epoch 1/5\n",
            "1500/1500 [==============================] - 41s 26ms/step - loss: 0.1650 - accuracy: 0.9494 - val_loss: 0.0621 - val_accuracy: 0.9806\n",
            "Epoch 2/5\n",
            "1500/1500 [==============================] - 39s 26ms/step - loss: 0.0588 - accuracy: 0.9829 - val_loss: 0.0534 - val_accuracy: 0.9835\n",
            "Epoch 3/5\n",
            "1500/1500 [==============================] - 40s 26ms/step - loss: 0.0445 - accuracy: 0.9868 - val_loss: 0.0456 - val_accuracy: 0.9877\n",
            "Epoch 4/5\n",
            "1500/1500 [==============================] - 36s 24ms/step - loss: 0.0355 - accuracy: 0.9894 - val_loss: 0.0535 - val_accuracy: 0.9857\n",
            "Epoch 5/5\n",
            "1500/1500 [==============================] - 38s 25ms/step - loss: 0.0281 - accuracy: 0.9912 - val_loss: 0.0491 - val_accuracy: 0.9877\n"
          ]
        }
      ]
    },
    {
      "cell_type": "code",
      "source": [],
      "metadata": {
        "id": "z2FK4OKwUfaO"
      },
      "execution_count": null,
      "outputs": []
    },
    {
      "cell_type": "code",
      "source": [],
      "metadata": {
        "id": "7xrvT8NEUfYb"
      },
      "execution_count": null,
      "outputs": []
    },
    {
      "cell_type": "code",
      "source": [],
      "metadata": {
        "id": "etKJ2zDIUfKc"
      },
      "execution_count": null,
      "outputs": []
    }
  ]
}